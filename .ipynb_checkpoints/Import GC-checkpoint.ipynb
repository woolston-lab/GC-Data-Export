{
 "cells": [
  {
   "cell_type": "code",
   "execution_count": 1,
   "metadata": {},
   "outputs": [],
   "source": [
    "import pandas as pd\n",
    "import os"
   ]
  },
  {
   "cell_type": "code",
   "execution_count": 2,
   "metadata": {},
   "outputs": [],
   "source": [
    "def get_csvs():\n",
    "    #Get paths and filenames for all csvs in subdirectories of current folder \n",
    "    csvs = []\n",
    "\n",
    "    for root, dirs, files in os.walk(os.getcwd()):\n",
    "        for file in files:\n",
    "            if file.endswith(\".csv\"):\n",
    "                 csvs.append(os.path.join(root, file))\n",
    "                    \n",
    "    return csvs"
   ]
  },
  {
   "cell_type": "code",
   "execution_count": 3,
   "metadata": {},
   "outputs": [],
   "source": [
    "def summarize(compounds_list):\n",
    "    #Generate a dataframe containing timestamp and peak area data for all csvs in subdirectories of the current folder\n",
    "    csvs = get_csvs()\n",
    "    cols = ['Timestamp', 'Year', 'Month', 'Day', 'Hour', 'Minute', 'Second'] + compounds_list\n",
    "    df = pd.DataFrame(columns = cols)\n",
    "    \n",
    "    for i in csvs:\n",
    "        record = get_areas(i, compounds_list)\n",
    "        df.loc[len(df)] = record\n",
    "        \n",
    "    return df"
   ]
  },
  {
   "cell_type": "code",
   "execution_count": 4,
   "metadata": {},
   "outputs": [],
   "source": [
    "def get_areas(filename, compounds_list):\n",
    "    #For a given filename and list of copoudns of interest, return the timestamp and peak areas\n",
    "    #Open filename and extract named compounds\n",
    "    df1 = pd.read_csv(filename, header = 9)\n",
    "    df1 = df1[df1['Name'].isin(compounds_list)]\n",
    "    \n",
    "    #Get date and time from filename\n",
    "    intro_string = 'WL_MicroGC-'\n",
    "    start_pos = str(filename).find(intro_string) + len(intro_string)\n",
    "    timestamp = filename[start_pos:start_pos+19]\n",
    "    year = filename[start_pos: start_pos+4]\n",
    "    month = filename[start_pos+5:start_pos+7]\n",
    "    day = filename[start_pos+8:start_pos+10]\n",
    "    hr = filename[start_pos+11:start_pos+13]\n",
    "    minute = filename[start_pos+14:start_pos+16]\n",
    "    second = filename[start_pos+17:start_pos+19]\n",
    "    \n",
    "    #Generate a new record to add to dataframe\n",
    "    areas = []\n",
    "    for i in compounds_list:\n",
    "        if i in df1['Name'].values:\n",
    "            areas.append(df1[df1['Name']==i]['Area'].to_numpy(dtype = 'float32')[0])\n",
    "        else:\n",
    "            areas.append(0)\n",
    "            \n",
    "    record = [timestamp, year, month, day, hr, minute, second] + areas\n",
    "    return(record)"
   ]
  },
  {
   "cell_type": "code",
   "execution_count": 5,
   "metadata": {},
   "outputs": [],
   "source": [
    "compounds_list = ['Hydrogen', 'Oxygen', 'Nitrogen', 'Carbon Dioxide', 'Carbon Monoxide']"
   ]
  },
  {
   "cell_type": "code",
   "execution_count": 6,
   "metadata": {},
   "outputs": [],
   "source": [
    "df = summarize(compounds_list)"
   ]
  },
  {
   "cell_type": "code",
   "execution_count": 8,
   "metadata": {},
   "outputs": [],
   "source": [
    "df.to_excel('GC Summary.xlsx')"
   ]
  }
 ],
 "metadata": {
  "kernelspec": {
   "display_name": "Python 3",
   "language": "python",
   "name": "python3"
  },
  "language_info": {
   "codemirror_mode": {
    "name": "ipython",
    "version": 3
   },
   "file_extension": ".py",
   "mimetype": "text/x-python",
   "name": "python",
   "nbconvert_exporter": "python",
   "pygments_lexer": "ipython3",
   "version": "3.7.4"
  }
 },
 "nbformat": 4,
 "nbformat_minor": 2
}
